{
  "cells": [
    {
      "cell_type": "markdown",
      "metadata": {
        "id": "view-in-github",
        "colab_type": "text"
      },
      "source": [
        "<a href=\"https://colab.research.google.com/github/yogeshwenwu/Torch-Profiler/blob/main/_downloads/b2c9c15033f17c2bdf31c864f9d39c76/profiler_recipe.ipynb\" target=\"_parent\"><img src=\"https://colab.research.google.com/assets/colab-badge.svg\" alt=\"Open In Colab\"/></a>"
      ]
    },
    {
      "cell_type": "code",
      "execution_count": 1,
      "metadata": {
        "id": "KSThemxTr5jF"
      },
      "outputs": [],
      "source": [
        "# For tips on running notebooks in Google Colab, see\n",
        "# https://pytorch.org/tutorials/beginner/colab\n",
        "%matplotlib inline"
      ]
    },
    {
      "cell_type": "markdown",
      "metadata": {
        "id": "P30hhcn-r5jH"
      },
      "source": [
        "PyTorch Profiler\n",
        "================\n",
        "\n",
        "This recipe explains how to use PyTorch profiler and measure the time\n",
        "and memory consumption of the model\\'s operators.\n",
        "\n",
        "Introduction\n",
        "------------\n",
        "\n",
        "PyTorch includes a simple profiler API that is useful when user needs to\n",
        "determine the most expensive operators in the model.\n",
        "\n",
        "In this recipe, we will use a simple Resnet model to demonstrate how to\n",
        "use profiler to analyze model performance.\n",
        "\n",
        "Setup\n",
        "-----\n",
        "\n",
        "To install `torch` and `torchvision` use the following command:\n",
        "\n",
        "``` {.sh}\n",
        "pip install torch torchvision\n",
        "```\n"
      ]
    },
    {
      "cell_type": "markdown",
      "metadata": {
        "id": "FNGmGWQbr5jJ"
      },
      "source": [
        "Steps\n",
        "=====\n",
        "\n",
        "1.  Import all necessary libraries\n",
        "2.  Instantiate a simple Resnet model\n",
        "3.  Using profiler to analyze execution time\n",
        "4.  Using profiler to analyze memory consumption\n",
        "5.  Using tracing functionality\n",
        "6.  Examining stack traces\n",
        "7.  Using profiler to analyze long-running jobs\n",
        "\n",
        "1. Import all necessary libraries\n",
        "---------------------------------\n",
        "\n",
        "In this recipe we will use `torch`, `torchvision.models` and `profiler`\n",
        "modules:\n"
      ]
    },
    {
      "cell_type": "code",
      "execution_count": 2,
      "metadata": {
        "id": "8C1NuK3Jr5jJ"
      },
      "outputs": [],
      "source": [
        "import torch\n",
        "import torchvision.models as models\n",
        "from torch.profiler import profile, record_function, ProfilerActivity"
      ]
    },
    {
      "cell_type": "markdown",
      "metadata": {
        "id": "CPfYxdXir5jK"
      },
      "source": [
        "2. Instantiate a simple Resnet model\n",
        "====================================\n",
        "\n",
        "Let\\'s create an instance of a Resnet model and prepare an input for it:\n"
      ]
    },
    {
      "cell_type": "code",
      "execution_count": null,
      "metadata": {
        "id": "WIdrggmyr5jK"
      },
      "outputs": [],
      "source": [
        "model = models.resnet18()\n",
        "inputs = torch.randn(5, 3, 224, 224)"
      ]
    },
    {
      "cell_type": "markdown",
      "metadata": {
        "id": "MUYiXllSr5jK"
      },
      "source": [
        "3. Using profiler to analyze execution time\n",
        "===========================================\n",
        "\n",
        "PyTorch profiler is enabled through the context manager and accepts a\n",
        "number of parameters, some of the most useful are:\n",
        "\n",
        "-   \n",
        "\n",
        "    `activities` - a list of activities to profile:\n",
        "\n",
        "    :   -   `ProfilerActivity.CPU` - PyTorch operators, TorchScript\n",
        "            functions and user-defined code labels (see\n",
        "            `record_function` below);\n",
        "        -   `ProfilerActivity.CUDA` - on-device CUDA kernels;\n",
        "        -   `ProfilerActivity.XPU` - on-device XPU kernels;\n",
        "\n",
        "-   `record_shapes` - whether to record shapes of the operator inputs;\n",
        "\n",
        "-   `profile_memory` - whether to report amount of memory consumed by\n",
        "    model\\'s Tensors;\n",
        "\n",
        "Note: when using CUDA, profiler also shows the runtime CUDA events\n",
        "occurring on the host.\n"
      ]
    },
    {
      "cell_type": "markdown",
      "metadata": {
        "id": "li65chs8r5jL"
      },
      "source": [
        "Let\\'s see how we can use profiler to analyze the execution time:\n"
      ]
    },
    {
      "cell_type": "code",
      "execution_count": null,
      "metadata": {
        "id": "V3XFlG1ur5jL"
      },
      "outputs": [],
      "source": [
        "with profile(activities=[ProfilerActivity.CPU], record_shapes=True) as prof:\n",
        "    with record_function(\"model_inference\"):\n",
        "        model(inputs)"
      ]
    },
    {
      "cell_type": "markdown",
      "metadata": {
        "id": "dKDpjjIKr5jL"
      },
      "source": [
        "Note that we can use `record_function` context manager to label\n",
        "arbitrary code ranges with user provided names (`model_inference` is\n",
        "used as a label in the example above).\n",
        "\n",
        "Profiler allows one to check which operators were called during the\n",
        "execution of a code range wrapped with a profiler context manager. If\n",
        "multiple profiler ranges are active at the same time (e.g. in parallel\n",
        "PyTorch threads), each profiling context manager tracks only the\n",
        "operators of its corresponding range. Profiler also automatically\n",
        "profiles the asynchronous tasks launched with `torch.jit._fork` and (in\n",
        "case of a backward pass) the backward pass operators launched with\n",
        "`backward()` call.\n",
        "\n",
        "Let\\'s print out the stats for the execution above:\n"
      ]
    },
    {
      "cell_type": "code",
      "execution_count": null,
      "metadata": {
        "id": "hrpJ_Kenr5jM"
      },
      "outputs": [],
      "source": [
        "print(prof.key_averages().table(sort_by=\"cpu_time_total\", row_limit=10))"
      ]
    },
    {
      "cell_type": "markdown",
      "metadata": {
        "id": "MSLOdzgKr5jM"
      },
      "source": [
        "The output will look like (omitting some columns):\n"
      ]
    },
    {
      "cell_type": "code",
      "execution_count": null,
      "metadata": {
        "id": "riWZCI3Yr5jM"
      },
      "outputs": [],
      "source": [
        "# ---------------------------------  ------------  ------------  ------------  ------------\n",
        "#                              Name      Self CPU     CPU total  CPU time avg    # of Calls\n",
        "# ---------------------------------  ------------  ------------  ------------  ------------\n",
        "#                   model_inference       5.509ms      57.503ms      57.503ms             1\n",
        "#                      aten::conv2d     231.000us      31.931ms       1.597ms            20\n",
        "#                 aten::convolution     250.000us      31.700ms       1.585ms            20\n",
        "#                aten::_convolution     336.000us      31.450ms       1.573ms            20\n",
        "#          aten::mkldnn_convolution      30.838ms      31.114ms       1.556ms            20\n",
        "#                  aten::batch_norm     211.000us      14.693ms     734.650us            20\n",
        "#      aten::_batch_norm_impl_index     319.000us      14.482ms     724.100us            20\n",
        "#           aten::native_batch_norm       9.229ms      14.109ms     705.450us            20\n",
        "#                        aten::mean     332.000us       2.631ms     125.286us            21\n",
        "#                      aten::select       1.668ms       2.292ms       8.988us           255\n",
        "# ---------------------------------  ------------  ------------  ------------  ------------\n",
        "# Self CPU time total: 57.549m\n",
        "#"
      ]
    },
    {
      "cell_type": "markdown",
      "metadata": {
        "id": "MbICiZj6r5jN"
      },
      "source": [
        "Here we see that, as expected, most of the time is spent in convolution\n",
        "(and specifically in `mkldnn_convolution` for PyTorch compiled with\n",
        "`MKL-DNN` support). Note the difference between self cpu time and cpu\n",
        "time - operators can call other operators, self cpu time excludes time\n",
        "spent in children operator calls, while total cpu time includes it. You\n",
        "can choose to sort by the self cpu time by passing\n",
        "`sort_by=\"self_cpu_time_total\"` into the `table` call.\n",
        "\n",
        "To get a finer granularity of results and include operator input shapes,\n",
        "pass `group_by_input_shape=True` (note: this requires running the\n",
        "profiler with `record_shapes=True`):\n"
      ]
    },
    {
      "cell_type": "code",
      "execution_count": null,
      "metadata": {
        "id": "1TUtM858r5jN"
      },
      "outputs": [],
      "source": [
        "print(prof.key_averages(group_by_input_shape=True).table(sort_by=\"cpu_time_total\", row_limit=10))"
      ]
    },
    {
      "cell_type": "markdown",
      "metadata": {
        "id": "28J7fh1Qr5jN"
      },
      "source": [
        "The output might look like this (omitting some columns):\n",
        "\n",
        "``` {.sh}\n",
        "---------------------------------  ------------  -------------------------------------------\n",
        "                             Name     CPU total                                 Input Shapes\n",
        "---------------------------------  ------------  -------------------------------------------\n",
        "                  model_inference      57.503ms                                           []\n",
        "                     aten::conv2d       8.008ms      [5,64,56,56], [64,64,3,3], [], ..., []]\n",
        "                aten::convolution       7.956ms     [[5,64,56,56], [64,64,3,3], [], ..., []]\n",
        "               aten::_convolution       7.909ms     [[5,64,56,56], [64,64,3,3], [], ..., []]\n",
        "         aten::mkldnn_convolution       7.834ms     [[5,64,56,56], [64,64,3,3], [], ..., []]\n",
        "                     aten::conv2d       6.332ms    [[5,512,7,7], [512,512,3,3], [], ..., []]\n",
        "                aten::convolution       6.303ms    [[5,512,7,7], [512,512,3,3], [], ..., []]\n",
        "               aten::_convolution       6.273ms    [[5,512,7,7], [512,512,3,3], [], ..., []]\n",
        "         aten::mkldnn_convolution       6.233ms    [[5,512,7,7], [512,512,3,3], [], ..., []]\n",
        "                     aten::conv2d       4.751ms  [[5,256,14,14], [256,256,3,3], [], ..., []]\n",
        "---------------------------------  ------------  -------------------------------------------\n",
        "Self CPU time total: 57.549ms\n",
        "```\n"
      ]
    },
    {
      "cell_type": "markdown",
      "metadata": {
        "id": "QgkZx7v_r5jN"
      },
      "source": [
        "Note the occurrence of `aten::convolution` twice with different input\n",
        "shapes.\n"
      ]
    },
    {
      "cell_type": "markdown",
      "metadata": {
        "id": "EEiNNaZJr5jN"
      },
      "source": [
        "Profiler can also be used to analyze performance of models executed on\n",
        "GPUs and XPUs: Users could switch between cpu, cuda and xpu\n"
      ]
    },
    {
      "cell_type": "code",
      "execution_count": null,
      "metadata": {
        "id": "tTVCgYO9r5jN"
      },
      "outputs": [],
      "source": [
        "if torch.cuda.is_available():\n",
        "    device = 'cuda'\n",
        "elif torch.xpu.is_available():\n",
        "    device = 'xpu'\n",
        "else:\n",
        "    print('Neither CUDA nor XPU devices are available to demonstrate profiling on acceleration devices')\n",
        "    import sys\n",
        "    sys.exit(0)\n",
        "\n",
        "activities = [ProfilerActivity.CPU, ProfilerActivity.CUDA, ProfilerActivity.XPU]\n",
        "sort_by_keyword = device + \"_time_total\"\n",
        "\n",
        "model = models.resnet18().to(device)\n",
        "inputs = torch.randn(5, 3, 224, 224).to(device)\n",
        "\n",
        "with profile(activities=activities, record_shapes=True) as prof:\n",
        "    with record_function(\"model_inference\"):\n",
        "        model(inputs)\n",
        "\n",
        "print(prof.key_averages().table(sort_by=sort_by_keyword, row_limit=10))"
      ]
    },
    {
      "cell_type": "markdown",
      "metadata": {
        "id": "6xFI4iyBr5jO"
      },
      "source": [
        "(Note: the first use of CUDA profiling may bring an extra overhead.)\n"
      ]
    },
    {
      "cell_type": "markdown",
      "metadata": {
        "id": "bk7TA1Mkr5jO"
      },
      "source": [
        "The resulting table output (omitting some columns):\n",
        "\n",
        "> ``` {.sh}\n",
        "> -------------------------------------------------------  ------------  ------------\n",
        ">                                                    Name     Self CUDA    CUDA total\n",
        "> -------------------------------------------------------  ------------  ------------\n",
        ">                                         model_inference       0.000us      11.666ms\n",
        ">                                            aten::conv2d       0.000us      10.484ms\n",
        ">                                       aten::convolution       0.000us      10.484ms\n",
        ">                                      aten::_convolution       0.000us      10.484ms\n",
        ">                              aten::_convolution_nogroup       0.000us      10.484ms\n",
        ">                                       aten::thnn_conv2d       0.000us      10.484ms\n",
        ">                               aten::thnn_conv2d_forward      10.484ms      10.484ms\n",
        "> void at::native::im2col_kernel<float>(long, float co...       3.844ms       3.844ms\n",
        ">                                       sgemm_32x32x32_NN       3.206ms       3.206ms\n",
        ">                                   sgemm_32x32x32_NN_vec       3.093ms       3.093ms\n",
        "> -------------------------------------------------------  ------------  ------------\n",
        "> Self CPU time total: 23.015ms\n",
        "> Self CUDA time total: 11.666ms\n",
        "> ```\n",
        "\n",
        "------------------------------------------------------------------------\n"
      ]
    },
    {
      "cell_type": "markdown",
      "metadata": {
        "id": "1VNXKkXXr5jP"
      },
      "source": [
        "(Note: the first use of XPU profiling may bring an extra overhead.)\n"
      ]
    },
    {
      "cell_type": "markdown",
      "metadata": {
        "id": "Mriphu8Er5jP"
      },
      "source": [
        "The resulting table output (omitting some columns):\n",
        "\n",
        "> ``` {.sh}\n",
        "> ```\n",
        "\n",
        "\\-\\-\\-\\-\\-\\-\\-\\-\\-\\-\\-\\-\\-\\-\\-\\-\\-\\-\\-\\-\\-\\-\\-\\-\\-\\-\\-\\-\\-\\-\\-\\-\\-\\-\\-\\-\\-\\-\\-\\-\\-\\-\\-\\-\\-\\-\\-\\-\\-\\-\\-\\-\\-\\-- \\-\\-\\-\\-\\-\\-\\-\\-\\-\\-\\-- \\-\\-\\-\\-\\-\\-\\-\\-\\-\\-\\-- \\-\\-\\-\\-\\-\\-\\-\\-\\-\\-\\-- \\-\\-\\-\\-\\-\\-\\-\\-\\-\\-\\-- \\-\\-\\-\\-\\-\\-\\-\\-\\-\\-\\-- Name Self XPU Self XPU % XPU total XPU time avg \\# of Calls\n",
        "\n",
        ":   \n",
        "\n",
        "    \\-\\-\\-\\-\\-\\-\\-\\-\\-\\-\\-\\-\\-\\-\\-\\-\\-\\-\\-\\-\\-\\-\\-\\-\\-\\-\\-\\-\\-\\-\\-\\-\\-\\-\\-\\-\\-\\-\\-\\-\\-\\-\\-\\-\\-\\-\\-\\-\\-\\-\\-\\-\\-\\-- \\-\\-\\-\\-\\-\\-\\-\\-\\-\\-\\-- \\-\\-\\-\\-\\-\\-\\-\\-\\-\\-\\-- \\-\\-\\-\\-\\-\\-\\-\\-\\-\\-\\-- \\-\\-\\-\\-\\-\\-\\-\\-\\-\\-\\-- \\-\\-\\-\\-\\-\\-\\-\\-\\-\\-\\-- model\\_inference 0.000us 0.00% 2.567ms 2.567ms 1\n",
        "\n",
        "    :   aten::conv2d 0.000us 0.00% 1.871ms 93.560us 20 aten::convolution\n",
        "        0.000us 0.00% 1.871ms 93.560us 20 aten::\\_convolution 0.000us\n",
        "        0.00% 1.871ms 93.560us 20 aten::convolution\\_overrideable\n",
        "        1.871ms 72.89% 1.871ms 93.560us 20 gen\\_conv 1.484ms 57.82%\n",
        "        1.484ms 74.216us 20 aten::batch\\_norm 0.000us 0.00% 432.640us\n",
        "        21.632us 20 aten::\\_batch\\_norm\\_impl\\_index 0.000us 0.00%\n",
        "        432.640us 21.632us 20 aten::native\\_batch\\_norm 432.640us 16.85%\n",
        "        432.640us 21.632us 20 conv\\_reorder 386.880us 15.07% 386.880us\n",
        "        6.448us 60\n",
        "\n",
        "    \\-\\-\\-\\-\\-\\-\\-\\-\\-\\-\\-\\-\\-\\-\\-\\-\\-\\-\\-\\-\\-\\-\\-\\-\\-\\-\\-\\-\\-\\-\\-\\-\\-\\-\\-\\-\\-\\-\\-\\-\\-\\-\\-\\-\\-\\-\\-\\-\\-\\-\\-\\-\\-\\--\n",
        "    \\-\\-\\-\\-\\-\\-\\-\\-\\-\\-\\-- \\-\\-\\-\\-\\-\\-\\-\\-\\-\\-\\--\n",
        "    \\-\\-\\-\\-\\-\\-\\-\\-\\-\\-\\-- \\-\\-\\-\\-\\-\\-\\-\\-\\-\\-\\--\n",
        "    \\-\\-\\-\\-\\-\\-\\-\\-\\-\\-\\--Self CPU time total: 712.486ms Self XPU time\n",
        "    total: 2.567ms\n"
      ]
    },
    {
      "cell_type": "code",
      "execution_count": null,
      "metadata": {
        "id": "JvDCX-DQr5jP"
      },
      "outputs": [],
      "source": [
        "#"
      ]
    },
    {
      "cell_type": "markdown",
      "metadata": {
        "id": "-CI0hul9r5jQ"
      },
      "source": [
        "Note the occurrence of on-device kernels in the output (e.g.\n",
        "`sgemm_32x32x32_NN`).\n"
      ]
    },
    {
      "cell_type": "markdown",
      "metadata": {
        "id": "xHVymuOgr5jQ"
      },
      "source": [
        "4. Using profiler to analyze memory consumption\n",
        "===============================================\n",
        "\n",
        "PyTorch profiler can also show the amount of memory (used by the\n",
        "model\\'s tensors) that was allocated (or released) during the execution\n",
        "of the model\\'s operators. In the output below, \\'self\\' memory\n",
        "corresponds to the memory allocated (released) by the operator,\n",
        "excluding the children calls to the other operators. To enable memory\n",
        "profiling functionality pass `profile_memory=True`.\n"
      ]
    },
    {
      "cell_type": "code",
      "execution_count": null,
      "metadata": {
        "id": "LtIfu4bXr5jQ"
      },
      "outputs": [],
      "source": [
        "model = models.resnet18()\n",
        "inputs = torch.randn(5, 3, 224, 224)\n",
        "\n",
        "with profile(activities=[ProfilerActivity.CPU],\n",
        "        profile_memory=True, record_shapes=True) as prof:\n",
        "    model(inputs)\n",
        "\n",
        "print(prof.key_averages().table(sort_by=\"self_cpu_memory_usage\", row_limit=10))\n",
        "\n",
        "# (omitting some columns)\n",
        "# ---------------------------------  ------------  ------------  ------------\n",
        "#                              Name       CPU Mem  Self CPU Mem    # of Calls\n",
        "# ---------------------------------  ------------  ------------  ------------\n",
        "#                       aten::empty      94.79 Mb      94.79 Mb           121\n",
        "#     aten::max_pool2d_with_indices      11.48 Mb      11.48 Mb             1\n",
        "#                       aten::addmm      19.53 Kb      19.53 Kb             1\n",
        "#               aten::empty_strided         572 b         572 b            25\n",
        "#                     aten::resize_         240 b         240 b             6\n",
        "#                         aten::abs         480 b         240 b             4\n",
        "#                         aten::add         160 b         160 b            20\n",
        "#               aten::masked_select         120 b         112 b             1\n",
        "#                          aten::ne         122 b          53 b             6\n",
        "#                          aten::eq          60 b          30 b             2\n",
        "# ---------------------------------  ------------  ------------  ------------\n",
        "# Self CPU time total: 53.064ms\n",
        "\n",
        "print(prof.key_averages().table(sort_by=\"cpu_memory_usage\", row_limit=10))"
      ]
    },
    {
      "cell_type": "markdown",
      "metadata": {
        "id": "j9UP4qcOr5jR"
      },
      "source": [
        "The output might look like this (omitting some columns):\n",
        "\n",
        "``` {.sh}\n",
        "---------------------------------  ------------  ------------  ------------\n",
        "                             Name       CPU Mem  Self CPU Mem    # of Calls\n",
        "---------------------------------  ------------  ------------  ------------\n",
        "                      aten::empty      94.79 Mb      94.79 Mb           121\n",
        "                 aten::batch_norm      47.41 Mb           0 b            20\n",
        "     aten::_batch_norm_impl_index      47.41 Mb           0 b            20\n",
        "          aten::native_batch_norm      47.41 Mb           0 b            20\n",
        "                     aten::conv2d      47.37 Mb           0 b            20\n",
        "                aten::convolution      47.37 Mb           0 b            20\n",
        "               aten::_convolution      47.37 Mb           0 b            20\n",
        "         aten::mkldnn_convolution      47.37 Mb           0 b            20\n",
        "                 aten::max_pool2d      11.48 Mb           0 b             1\n",
        "    aten::max_pool2d_with_indices      11.48 Mb      11.48 Mb             1\n",
        "---------------------------------  ------------  ------------  ------------\n",
        "Self CPU time total: 53.064ms\n",
        "```\n"
      ]
    },
    {
      "cell_type": "markdown",
      "metadata": {
        "id": "aRiWfWsar5jS"
      },
      "source": [
        "5. Using tracing functionality\n",
        "==============================\n",
        "\n",
        "Profiling results can be outputted as a `.json` trace file: Tracing CUDA\n",
        "or XPU kernels Users could switch between cpu, cuda and xpu\n"
      ]
    },
    {
      "cell_type": "code",
      "execution_count": null,
      "metadata": {
        "id": "wXQ2jzA9r5jS"
      },
      "outputs": [],
      "source": [
        "device = 'cuda'\n",
        "\n",
        "activities = [ProfilerActivity.CPU, ProfilerActivity.CUDA, ProfilerActivity.XPU]\n",
        "\n",
        "model = models.resnet18().to(device)\n",
        "inputs = torch.randn(5, 3, 224, 224).to(device)\n",
        "\n",
        "with profile(activities=activities) as prof:\n",
        "    model(inputs)\n",
        "\n",
        "prof.export_chrome_trace(\"trace.json\")"
      ]
    },
    {
      "cell_type": "markdown",
      "metadata": {
        "id": "uF4vc8Qhr5jS"
      },
      "source": [
        "You can examine the sequence of profiled operators and CUDA/XPU kernels\n",
        "in Chrome trace viewer (`chrome://tracing`):\n",
        "\n",
        "![image](https://pytorch.org/tutorials/_static/img/trace_img.png)\n"
      ]
    },
    {
      "cell_type": "markdown",
      "metadata": {
        "id": "H5rueDbPr5jS"
      },
      "source": [
        "6. Examining stack traces\n",
        "=========================\n",
        "\n",
        "Profiler can be used to analyze Python and TorchScript stack traces:\n"
      ]
    },
    {
      "cell_type": "code",
      "execution_count": null,
      "metadata": {
        "id": "7Vx0OYGTr5jT"
      },
      "outputs": [],
      "source": [
        "sort_by_keyword = \"self_\" + device + \"_time_total\"\n",
        "\n",
        "with profile(\n",
        "    activities=activities,\n",
        "    with_stack=True,\n",
        ") as prof:\n",
        "    model(inputs)\n",
        "\n",
        "# Print aggregated stats\n",
        "print(prof.key_averages(group_by_stack_n=5).table(sort_by=sort_by_keyword, row_limit=2))"
      ]
    },
    {
      "cell_type": "markdown",
      "metadata": {
        "id": "iKKiNqeDr5jT"
      },
      "source": [
        "The output might look like this (omitting some columns):\n",
        "\n",
        "``` {.sh}\n",
        "-------------------------  -----------------------------------------------------------\n",
        "                     Name  Source Location\n",
        "-------------------------  -----------------------------------------------------------\n",
        "aten::thnn_conv2d_forward  .../torch/nn/modules/conv.py(439): _conv_forward\n",
        "                           .../torch/nn/modules/conv.py(443): forward\n",
        "                           .../torch/nn/modules/module.py(1051): _call_impl\n",
        "                           .../site-packages/torchvision/models/resnet.py(63): forward\n",
        "                           .../torch/nn/modules/module.py(1051): _call_impl\n",
        "aten::thnn_conv2d_forward  .../torch/nn/modules/conv.py(439): _conv_forward\n",
        "                           .../torch/nn/modules/conv.py(443): forward\n",
        "                           .../torch/nn/modules/module.py(1051): _call_impl\n",
        "                           .../site-packages/torchvision/models/resnet.py(59): forward\n",
        "                           .../torch/nn/modules/module.py(1051): _call_impl\n",
        "-------------------------  -----------------------------------------------------------\n",
        "Self CPU time total: 34.016ms\n",
        "Self CUDA time total: 11.659ms\n",
        "```\n"
      ]
    },
    {
      "cell_type": "markdown",
      "metadata": {
        "id": "nGR4hUO1r5jT"
      },
      "source": [
        "Note the two convolutions and the two call sites in\n",
        "`torchvision/models/resnet.py` script.\n",
        "\n",
        "(Warning: stack tracing adds an extra profiling overhead.)\n"
      ]
    },
    {
      "cell_type": "markdown",
      "metadata": {
        "id": "VgdDV1cIr5jT"
      },
      "source": [
        "7. Using profiler to analyze long-running jobs\n",
        "==============================================\n",
        "\n",
        "PyTorch profiler offers an additional API to handle long-running jobs\n",
        "(such as training loops). Tracing all of the execution can be slow and\n",
        "result in very large trace files. To avoid this, use optional arguments:\n",
        "\n",
        "-   `schedule` - specifies a function that takes an integer argument\n",
        "    (step number) as an input and returns an action for the profiler,\n",
        "    the best way to use this parameter is to use\n",
        "    `torch.profiler.schedule` helper function that can generate a\n",
        "    schedule for you;\n",
        "-   `on_trace_ready` - specifies a function that takes a reference to\n",
        "    the profiler as an input and is called by the profiler each time the\n",
        "    new trace is ready.\n",
        "\n",
        "To illustrate how the API works, let\\'s first consider the following\n",
        "example with `torch.profiler.schedule` helper function:\n"
      ]
    },
    {
      "cell_type": "code",
      "execution_count": null,
      "metadata": {
        "id": "CG1suCHYr5jT"
      },
      "outputs": [],
      "source": [
        "from torch.profiler import schedule\n",
        "\n",
        "my_schedule = schedule(\n",
        "    skip_first=10,\n",
        "    wait=5,\n",
        "    warmup=1,\n",
        "    active=3,\n",
        "    repeat=2)"
      ]
    },
    {
      "cell_type": "markdown",
      "metadata": {
        "id": "eVusUxz4r5jU"
      },
      "source": [
        "Profiler assumes that the long-running job is composed of steps,\n",
        "numbered starting from zero. The example above defines the following\n",
        "sequence of actions for the profiler:\n",
        "\n",
        "1.  Parameter `skip_first` tells profiler that it should ignore the\n",
        "    first 10 steps (default value of `skip_first` is zero);\n",
        "2.  After the first `skip_first` steps, profiler starts executing\n",
        "    profiler cycles;\n",
        "3.  Each cycle consists of three phases:\n",
        "    -   idling (`wait=5` steps), during this phase profiler is not\n",
        "        active;\n",
        "    -   warming up (`warmup=1` steps), during this phase profiler starts\n",
        "        tracing, but the results are discarded; this phase is used to\n",
        "        discard the samples obtained by the profiler at the beginning of\n",
        "        the trace since they are usually skewed by an extra overhead;\n",
        "    -   active tracing (`active=3` steps), during this phase profiler\n",
        "        traces and records data;\n",
        "4.  An optional `repeat` parameter specifies an upper bound on the\n",
        "    number of cycles. By default (zero value), profiler will execute\n",
        "    cycles as long as the job runs.\n"
      ]
    },
    {
      "cell_type": "markdown",
      "metadata": {
        "id": "gzZToCP7r5jU"
      },
      "source": [
        "Thus, in the example above, profiler will skip the first 15 steps, spend\n",
        "the next step on the warm up, actively record the next 3 steps, skip\n",
        "another 5 steps, spend the next step on the warm up, actively record\n",
        "another 3 steps. Since the `repeat=2` parameter value is specified, the\n",
        "profiler will stop the recording after the first two cycles.\n",
        "\n",
        "At the end of each cycle profiler calls the specified `on_trace_ready`\n",
        "function and passes itself as an argument. This function is used to\n",
        "process the new trace - either by obtaining the table output or by\n",
        "saving the output on disk as a trace file.\n",
        "\n",
        "To send the signal to the profiler that the next step has started, call\n",
        "`prof.step()` function. The current profiler step is stored in\n",
        "`prof.step_num`.\n",
        "\n",
        "The following example shows how to use all of the concepts above for\n",
        "CUDA and XPU Kernels:\n"
      ]
    },
    {
      "cell_type": "code",
      "execution_count": null,
      "metadata": {
        "id": "tMg3-MMRr5je"
      },
      "outputs": [],
      "source": [
        "sort_by_keyword = \"self_\" + device + \"_time_total\"\n",
        "\n",
        "def trace_handler(p):\n",
        "    output = p.key_averages().table(sort_by=sort_by_keyword, row_limit=10)\n",
        "    print(output)\n",
        "    p.export_chrome_trace(\"/tmp/trace_\" + str(p.step_num) + \".json\")\n",
        "\n",
        "with profile(\n",
        "    activities=activities,\n",
        "    schedule=torch.profiler.schedule(\n",
        "        wait=1,\n",
        "        warmup=1,\n",
        "        active=2),\n",
        "    on_trace_ready=trace_handler\n",
        ") as p:\n",
        "    for idx in range(8):\n",
        "        model(inputs)\n",
        "        p.step()"
      ]
    },
    {
      "cell_type": "markdown",
      "metadata": {
        "id": "tavRcZGjr5je"
      },
      "source": [
        "Learn More\n",
        "==========\n",
        "\n",
        "Take a look at the following recipes/tutorials to continue your\n",
        "learning:\n",
        "\n",
        "-   [PyTorch\n",
        "    Benchmark](https://pytorch.org/tutorials/recipes/recipes/benchmark.html)\n",
        "-   [Visualizing models, data, and training with\n",
        "    TensorBoard](https://pytorch.org/tutorials/intermediate/tensorboard_tutorial.html)\n",
        "    tutorial\n"
      ]
    }
  ],
  "metadata": {
    "kernelspec": {
      "display_name": "Python 3",
      "language": "python",
      "name": "python3"
    },
    "language_info": {
      "codemirror_mode": {
        "name": "ipython",
        "version": 3
      },
      "file_extension": ".py",
      "mimetype": "text/x-python",
      "name": "python",
      "nbconvert_exporter": "python",
      "pygments_lexer": "ipython3",
      "version": "3.10.12"
    },
    "colab": {
      "provenance": [],
      "include_colab_link": true
    }
  },
  "nbformat": 4,
  "nbformat_minor": 0
}